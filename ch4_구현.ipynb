{
  "nbformat": 4,
  "nbformat_minor": 0,
  "metadata": {
    "colab": {
      "name": "ch4_구현.ipynb",
      "provenance": [],
      "collapsed_sections": [],
      "authorship_tag": "ABX9TyPb3fwXiFscuQSpM/6YEU2X",
      "include_colab_link": true
    },
    "kernelspec": {
      "name": "python3",
      "display_name": "Python 3"
    },
    "language_info": {
      "name": "python"
    }
  },
  "cells": [
    {
      "cell_type": "markdown",
      "metadata": {
        "id": "view-in-github",
        "colab_type": "text"
      },
      "source": [
        "<a href=\"https://colab.research.google.com/github/babeebird/ThisCodingTest/blob/main/ch4_%EA%B5%AC%ED%98%84.ipynb\" target=\"_parent\"><img src=\"https://colab.research.google.com/assets/colab-badge.svg\" alt=\"Open In Colab\"/></a>"
      ]
    },
    {
      "cell_type": "markdown",
      "source": [
        "- 한 문장으로 말하자면\n",
        "    - 구현이란 **머릿속에 있는 알고리즘을 소스 코드로 바꾸는 과정**이다\n",
        "    - 구현 유형의 문제는 ‘풀이를 떠올리는 것은 쉽지만 소스코드로 옮기기 어려운 문제’를 의미\n",
        "    - **어떻게 풀면 될지 대략 감은 오는데 막상 코드로 옮기려니 무엇부터 작성해야 할지 모를 수 있기 때문**이다(바로 나!)\n",
        "- 좀 더 자세히 말하자면\n",
        "    - **완전 탐색**은 모든 경우의 수를 주저 없이 다 계산하는 해결 방법\n",
        "    - **시물레이션**은 문제에서 제시한 알고리즘을 한 단계씩 차례대로 직접 수행\n",
        "    - 코딩테스트에서는 128 ~ 512MB로 메모리를 제한(데이터 처리량이 많을 때는 꼭 메모리 제한을 고려)"
      ],
      "metadata": {
        "id": "g6SQzwse0Bjr"
      }
    },
    {
      "cell_type": "code",
      "source": [
        "%%time\n",
        "\n",
        "#- 예제 4-1 상하좌우 (딕셔너리)\n",
        "'''\n",
        "- 문제를 보자마자 떠오른 💭아이디어💭를 말하자면,\n",
        "    - 여행가가 이동하면 x와 y 좌표의 수가 하나씩 변한다(+1,-1)\n",
        "    - 공간 밖으로 나가는 것은 무시한다 \n",
        "\n",
        "- 문제 정리\n",
        "1. 여행가 A는 N x N 크기의 지도 가장 왼쪽 위에서 시작한다, 시작 좌표는 (1,1)이다.\n",
        "2. 여행가는 계획서를 가지고 있는데 계획서에는 이동할 계획이 적혀있다\n",
        "3.  계획서에 적혀있는 문자는 왼쪽-L, 오른쪽-R, 위-U, 아래-D의 의미를 가지고 이 중 하나의 문자가 반복적으로 적혀있다\n",
        "4. 이동 시 N x N 크기의 공간을 벗어나는 움직임은 무시된다\n",
        "5. 여행가 A가 최종적으로 도착할 지점의 좌표를 출력한다\n",
        "\n",
        "- 자연어 알고리즘\n",
        "1. 지도 사이즈(N x N)를 정하기 위해서 변수 n에 정수로 N(type int)을 입력받는다.\n",
        "2. 시작 좌표 (1,1)을 각각 x와 y 변수에 넣는다. (초깃값 설정)\n",
        "3. 계획서 내용(공백 기준으로 입력)을 변수 plans에 입력 받은 뒤 공백 기준으로 나누어 리스트로 저장한다. (R, L, U, D 사용)\n",
        "4. 이동하면서 변화되는 값을 변수 move에 넣는다(x와 y 좌표값의 변화량)\n",
        "    1. R의 (dx, dy) = (0, 1) \n",
        "    2. L의 (dx, dy) = (0, -1)\n",
        "    3. D의 (dx, dy) = (1, 0)\n",
        "    4. U의 (dx, dy) = (-1, 0)\n",
        "    5. 위 내용을 종합하여 dx, dy를 설정한다.\n",
        "        1. move_types = {'R' : (0, 1), 'L' : (0, -1), 'U' : (-1, 0), 'D' : (1, 0)}\n",
        "        2. move_types = [’R’, ‘L’, ‘U’, ‘D’] \n",
        "            1. dx = [0, 0, -1, 1]\n",
        "            2. dy = [1, -1, 0, 0]\n",
        "5. for문 - ~~range(len(plans))~~ or plans 의 원소를 하나씩 꺼내서 변수 plan에 할당한다. \n",
        "    1. (move가 딕셔너리인 경우) move의 key값이 plan과 같으면 해당하는 value를 가져온다.  그것에 맞는 좌표값 변화량을 변수 x, y에 각각 더해준다. \n",
        "    2. (move가 리스트인 경우) for문- range(len(move))만큼 반복하며 i에 할당한다. \n",
        "        1.  if문 - 만약에 plan과 move[i]가 같으면\n",
        "            1. x, y 각각에 dx[i], dy[i]의 값을 더하여 할당한다.\n",
        "6. if문 - 만약에 x, y 가 1보다 작거나, n보다 크면 \n",
        "    1. 무시한다.\n",
        "7. 최종 좌표 위치 x,y 를 출력한다\n",
        "'''\n",
        "\n",
        "# 지도 사이즈를 입력받는다(N x N 정하기)\n",
        "n = int(input()) \n",
        "\n",
        "# 여행자의 시작 좌표값을 x와 y에 지정한다\n",
        "x, y = 1, 1\n",
        "\n",
        "# 계획서를 공백을 기준으로 입력받는다(R,L,U,D)\n",
        "plans = input().split() #- 입력 예시 : L R R U D => ['L', 'R', 'R', 'U', 'D']\n",
        "\n",
        "# L, R, U, D 순서로 이동 방향에 따른 좌표 변화값을 리스트에 담아둔다 \n",
        "# 예를들어 (1,1)에서 오른쪽R으로 1칸을 이동하면 (1,2)가 되는데 이때 좌표값이 \n",
        "# x는 그대로고 y가 1증가 하는 것을 볼 수 있다. 그래서 dx는 0이고 dy는 1이다\n",
        "dx = [0, 0, -1, 1]\n",
        "dy = [-1, 1, 0, 0]\n",
        "move_types = ['L', 'R', 'U', 'D']  # 이동방향 타입을 리스트에 담아둔다 \n",
        "\n",
        "for plan in plans :  # R, U, L, D가 들어있는 계획서 내용을 하나씩 꺼낸다 \n",
        "    for i in range(len(move_types)):  # 계획서 내용 수 만큼 반복\n",
        "        if plan == move_types[i]:  # 꺼낸 계획이 리스트 몇번째에 담겨져 있는지 확인해서 같으면\n",
        "            nx = x + dx[i]         # 그 인덱스를 이용하여 좌표 변화값을 사용한다 \n",
        "            ny = y + dy[i]         # 변화값을 기존 좌표에 더해서 새로운 좌표값을 만든다\n",
        "            \n",
        "    if nx < 1 or ny < 1 or nx > n or ny > n :  # 좌표값이 1보다 작거나 지도사이즈 n보다 크면\n",
        "        continue   # 넘어간다 \n",
        "    x,y = nx, ny  # 최종 좌표값을 x와 y에 넣는다 \n",
        "    \n",
        "print(x, y)\n",
        "\n",
        "'''\n",
        "8\n",
        "R D D D R U\n",
        "3 3\n",
        "CPU times: user 625 ms, sys: 96.5 ms, total: 721 ms\n",
        "Wall time: 1min 55s\n",
        "'''"
      ],
      "metadata": {
        "colab": {
          "base_uri": "https://localhost:8080/"
        },
        "id": "ZTePMtwK0g9Q",
        "outputId": "faa63071-e45b-4679-fd37-70cbf0784ada"
      },
      "execution_count": null,
      "outputs": [
        {
          "output_type": "stream",
          "name": "stdout",
          "text": [
            "8\n",
            "R D D D R U\n",
            "3 3\n",
            "CPU times: user 40.5 ms, sys: 3.85 ms, total: 44.4 ms\n",
            "Wall time: 8.78 s\n"
          ]
        }
      ]
    },
    {
      "cell_type": "code",
      "source": [
        "%%time\n",
        "\n",
        "n = int(input())\n",
        "plans = input().split()\n",
        "\n",
        "walk = {'R' : (0, 1), 'L' : (0, -1), 'U' : (-1, 0), 'D' : (1, 0)}\n",
        "x, y = 1,1\n",
        "\n",
        "for plan in plans:\n",
        "\t\tdx, dy = walk[plan]\n",
        "\t\tdx = x +dx\n",
        "\t\tdy = y +dy\n",
        "\t\tif dx < 1 or dx > n or dy< 1 or dy > n:\n",
        "\t\t\t\tcontinue\n",
        "\t\tx, y = dx, dy\n",
        "print(x,y)\n",
        "\n",
        "'''\n",
        "8\n",
        "R D D D R U\n",
        "3 3\n",
        "CPU times: user 259 ms, sys: 34.9 ms, total: 294 ms\n",
        "Wall time: 50.9 s\n",
        "'''"
      ],
      "metadata": {
        "id": "ONia-wal0-JO",
        "colab": {
          "base_uri": "https://localhost:8080/"
        },
        "outputId": "39804998-4054-4791-8f1e-a156926130fc"
      },
      "execution_count": null,
      "outputs": [
        {
          "output_type": "stream",
          "name": "stdout",
          "text": [
            "8\n",
            "R D D D R U\n",
            "3 3\n",
            "CPU times: user 18.6 ms, sys: 2.11 ms, total: 20.7 ms\n",
            "Wall time: 3.21 s\n"
          ]
        }
      ]
    },
    {
      "cell_type": "markdown",
      "source": [
        "- pass, continue, break의 차이는 ?!\n",
        "    1. `pass : 실행할 코드가 없는 것으로 다음 행동을 계속해서 진행합니다.`\n",
        "    2. `continue : 바로 다음 순번의 loop를 수행합니다.`\n",
        "    3. `break : 반복문을 멈추고 loop 밖으로 나가도록합니다.`\n",
        "\n",
        "- CPU time 과 Wall clock time\n",
        "  - **CPU time -** CPU가 코드를 실행하는데 걸린 시간을 측정한 것,\n",
        "  - **Wall clock time -** 실제 코드를 실행하는 데에 걸린 시간으로, 컴퓨터가 해당 실행 시점에 다른 작업을 하고 있다면 영향을 받을 수 있다"
      ],
      "metadata": {
        "id": "UKNHJvPj1hK-"
      }
    },
    {
      "cell_type": "code",
      "source": [
        "%%time \n",
        "#- 예제 4-2 시각\n",
        "\n",
        "'''\n",
        "- 문제 정리\n",
        "1. 정수 N이 입력되면 00시 00분 00초부터 **N시** 59분 59초까지의 모든 시각 중 3이 하나라도 포함된 경우의 수 구하는 프로그램 \n",
        "2. 24시간, 60분, 60초 중 3 숫자가 하나라도 포함되면 세어야 한다\n",
        "\n",
        "- 자연어 알고리즘\n",
        "1. 몇시까지 할지 정수로 시간을 변수 h(type int)에 받는다  \n",
        "2. 3이 포함된 경우를 세어야 하므로 변수 count에 초기값 0을 설정한다.\n",
        "3. 3중첩 반복문을 통해 시, 분, 초 만큼 반복을 한다 \n",
        "    1. 시간 for문 - range(h+1) 만큼 반복하여 변수 i에 할당한다.\n",
        "    2. 분 for문 - range(60) 만큼 반복하여 변수 j에 할당한다. \n",
        "    3. 초 for문 - range(60) 만큼 반복하여 변수 k에 할당한다. \n",
        "        1. 만약에 str(i)+str(j)+str(k) 에 3이 포함되어 있으면 예) 0053\n",
        "            1. 카운트 변수에 1을 더한다\n",
        "'''\n",
        "\n",
        "\n",
        "\n",
        "h = int(input())  # 시간을 입력받는다 \n",
        "\n",
        "count = 0        \n",
        "for i in range(h + 1):  # 범위를 하나 더 늘려줘야 h만큼 반복한다 \n",
        "    for j in range(60):   # 분\n",
        "        for k in range(60):  # 초 만큼 반복 \n",
        "            if '3' in str(i) + str(j) + str(k):   # 문자로 형변환을 해야 연산되지 않고 붙어진다 \n",
        "                count += 1                        # 3이 있으면 1을 더해준다 \n",
        "                 \n",
        "print(count)\n",
        "\n",
        "'''\n",
        "5\n",
        "11475\n",
        "CPU times: user 55.2 ms, sys: 7.22 ms, total: 62.5 ms\n",
        "Wall time: 5.17 s\n",
        "'''\n"
      ],
      "metadata": {
        "id": "j320grlw1c8D",
        "colab": {
          "base_uri": "https://localhost:8080/"
        },
        "outputId": "4fe2759b-6df2-4d1f-e730-29db7126396f"
      },
      "execution_count": null,
      "outputs": [
        {
          "output_type": "stream",
          "name": "stdout",
          "text": [
            "5\n",
            "11475\n",
            "CPU times: user 31.1 ms, sys: 93 µs, total: 31.2 ms\n",
            "Wall time: 2.23 s\n"
          ]
        }
      ]
    },
    {
      "cell_type": "code",
      "source": [
        "%%time\n",
        "n = int(input())\n",
        "h = 0\n",
        "s = 0\n",
        "m = 0\n",
        "count = 0\n",
        "\n",
        "for i in range((n+1)*3600):\n",
        "    h = i // 3600\n",
        "    m = (i % 3600) // 60\n",
        "    s = i % 60\n",
        "    if '3' in str(h)+str(m)+str(s):\n",
        "        count += 1\n",
        "\n",
        "print(count)\n",
        "\n",
        "'''\n",
        "5\n",
        "11475\n",
        "CPU times: user 100 ms, sys: 10.8 ms, total: 111 ms\n",
        "Wall time: 11 s\n",
        "'''"
      ],
      "metadata": {
        "id": "pZk8F82lO8k7",
        "colab": {
          "base_uri": "https://localhost:8080/"
        },
        "outputId": "0ae226e3-aa2e-4e6e-80bf-8adb1aa5ccac"
      },
      "execution_count": null,
      "outputs": [
        {
          "output_type": "stream",
          "name": "stdout",
          "text": [
            "5\n",
            "11475\n",
            "CPU times: user 36.9 ms, sys: 1.11 ms, total: 38 ms\n",
            "Wall time: 1.86 s\n"
          ]
        }
      ]
    },
    {
      "cell_type": "code",
      "source": [
        "%%time\n",
        "#- 실전2. 왕실의 나이트\n",
        "\n",
        "'''\n",
        "- 문제 정리\n",
        "1. 체스판과 같은 8x8 좌표 평면에 나이트가 하나 있다 \n",
        "2. 이 나이트는 **L자 형태로만 이동 가능**하다(무조건 **2칸 이동하고 1칸 이동**!!) \n",
        "    1. 수평으로 2칸 이동 후 수직으로 한 칸 이동\n",
        "    2. 수직으로 2칸 이동 후 수평으로 한 칸 이동\n",
        "3. 8x8 왕실 정원 밖으로는 나갈 수 없다\n",
        "\n",
        "- 자연어 알고리즘\n",
        "1. 현재 나이트의 위치를 변수 knight 에 입력받기(영문a~h숫자1~8가 순서대로 입력됨)  ex) a1 \n",
        "2. 나이트의 이동 방향에 따른 x, y 좌표 변화량을 변수 moves 리스트에 담기 \n",
        "    1. 총 8가지의 경우의 수 \n",
        "    2. plans = [DR, DL, UR, UL,  \n",
        "    3. **moves의 요소 (행방향 변화량, 열방향 변화량)**\n",
        "    4. moves = [(2,1), (2,-1), (-2,1), (-2,-1), (1,2), (-1,2), (1,-2),(-1,-2)]\n",
        "3. row = knight[1]  # a1에서 1 가져오기\n",
        "4. col = int(ord(knight[0])) -  int(ord(’a’) + 1  # a1에서 a 가져온뒤 숫자 좌표 1으로 변환\n",
        "5. 변수 result를 0으로 초기화한다. \n",
        "6. for문 - moves를 반복하여 변수 move에 할당한다. \n",
        "    1. next_row에 row에 move[0] (변화량) 을 더하여 할당한다. \n",
        "    2. next_col을 column에 move[1] (변화량) 을 더하여 할당한다. \n",
        "    3. if문 - next_row와 next_col 의 값이 1보다 크거나 같고, (and) 8보다 작거나 같으면\n",
        "        1. 해당 위치로 이동이 가능하면 result에 1을 더하여 할당한다. \n",
        "7. print (result)\n",
        "'''\n",
        "\n",
        "knight = input()\n",
        "moves = [(2,1), (2,-1), (-2,1), (-2,-1), (1,2), (-1,2), (1,-2),(-1,-2)]\n",
        "row = int(knight[1])   # knight[1]은 문자형이므로 int로 바꿔줘야 함\n",
        "col = int(ord(knight[0]))-int(ord('a')) + 1\n",
        "result = 0\n",
        "\n",
        "for move in moves:\n",
        "\tnext_row = row + move[0]\n",
        "\tnext_col = col + move[1]\n",
        "\tif next_row >= 1 and next_col >= 1 and next_row <= 8 and next_col <= 8:\n",
        "\t\tresult += 1\n",
        "\n",
        "print(result)\n",
        "\n",
        "'''\n",
        "a1\n",
        "2\n",
        "CPU times: user 18.8 ms, sys: 4.29 ms, total: 23.1 ms\n",
        "Wall time: 2.96 s\n",
        "'''"
      ],
      "metadata": {
        "id": "eOxjV7ApPDQU",
        "colab": {
          "base_uri": "https://localhost:8080/"
        },
        "outputId": "b43cc3d0-de72-4f9e-90a3-eebc78cf3f52"
      },
      "execution_count": null,
      "outputs": [
        {
          "output_type": "stream",
          "name": "stdout",
          "text": [
            "a1\n",
            "2\n",
            "CPU times: user 14.1 ms, sys: 3.01 ms, total: 17.1 ms\n",
            "Wall time: 3.18 s\n"
          ]
        }
      ]
    },
    {
      "cell_type": "code",
      "source": [
        "%%time\n",
        "knight = input()\n",
        "\n",
        "dx = [-1, 1, -1, 1, 2, 2, -2, -2]\n",
        "dy = [2, 2, -2, -2, -1, 1, -1, 1]\n",
        "\n",
        "result = 0\n",
        "\n",
        "for i in range(8):\n",
        "    x = int(knight[1])\n",
        "    y = ord(knight[0]) - ord('a') + 1\n",
        "    \n",
        "    x += dx[i]\n",
        "    y += dy[i]\n",
        "    \n",
        "    if 1 <= x <= 8 and 1 <= y <= 8:\n",
        "        result += 1\n",
        "\n",
        "print(result)\n",
        "\n",
        "'''\n",
        "a1\n",
        "2\n",
        "CPU times: user 18.8 ms, sys: 4.29 ms, total: 23.1 ms\n",
        "Wall time: 2.96 s\n",
        "'''"
      ],
      "metadata": {
        "id": "W04nSWNXPnu4",
        "colab": {
          "base_uri": "https://localhost:8080/"
        },
        "outputId": "19e325b0-f15c-4a56-b427-00455c0de047"
      },
      "execution_count": null,
      "outputs": [
        {
          "output_type": "stream",
          "name": "stdout",
          "text": [
            "a1\n",
            "2\n",
            "CPU times: user 11.7 ms, sys: 1.17 ms, total: 12.8 ms\n",
            "Wall time: 1.99 s\n"
          ]
        }
      ]
    }
  ]
}