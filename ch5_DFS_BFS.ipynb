{
  "nbformat": 4,
  "nbformat_minor": 0,
  "metadata": {
    "colab": {
      "name": "ch5_DFS/BFS.ipynb",
      "provenance": [],
      "collapsed_sections": [],
      "authorship_tag": "ABX9TyOxKaMLMsq/jfmdpXx+i/9e",
      "include_colab_link": true
    },
    "kernelspec": {
      "name": "python3",
      "display_name": "Python 3"
    },
    "language_info": {
      "name": "python"
    }
  },
  "cells": [
    {
      "cell_type": "markdown",
      "metadata": {
        "id": "view-in-github",
        "colab_type": "text"
      },
      "source": [
        "<a href=\"https://colab.research.google.com/github/babeebird/ThisCodingTest/blob/main/ch5_DFS_BFS.ipynb\" target=\"_parent\"><img src=\"https://colab.research.google.com/assets/colab-badge.svg\" alt=\"Open In Colab\"/></a>"
      ]
    },
    {
      "cell_type": "markdown",
      "source": [
        "#### 자료구조 기초(스택, 큐, 재귀함수)\n",
        "- 한 문장으로 말하자면\n",
        "  - **탐색(Search) :** 많은 양의 데이터 중에서 원하는 데이터를 찾는 과정\n",
        "      - 대표적인 탐색 알고리즘 - DFS, BFS(뒤에서 배움), 이걸 이해하려면 기본 자료 구조를 이해 해야 함\n",
        "      - **자료구조(Data Structure) : 데이터를 표현하고 관리하고 처리하기 위한 구조**\n",
        "          - 삽입(Push) : 데이터를 삽입한다. ex) append()\n",
        "          - 삭제(Pop) : 데이터를 삭제한다. ex) pop()\n",
        "- 좀 더 자세히 말하자면\n",
        "    - **스택(Stack) : 선입후출(First In Last Out) 구조 또는 후입선출(Last In First Out) 구조**, 들어오고 나가는 방향이 한쪽만 있음, 팬케이크가 쌓여있으면 맨 위에 것 먼저 먹음!\n",
        "    - **큐(Queue) : 선입선출(First In First Out) 구조**, 들어오고 나가는 방향이 양쪽으로 있음, 줄 서서 차례대로 입장하는 것!\n",
        "    - **재귀 함수( Recursive Function) : 자기 자신을 다시 호출하는 함수**  자기 자신을 계~속 추가로 불러오기 때문에 **종료 조건을 꼭 명시**해야 한다.( 종료 조건이 없으면 계속 출력하다가 재귀의 최대 깊이를 초과했다는 에러 메세지가 나오면서 종료됨)\n",
        "      - 재귀 함수는 내부적으로 스택 자료구조와 동일"
      ],
      "metadata": {
        "id": "UsmcuUnQP1rA"
      }
    },
    {
      "cell_type": "code",
      "execution_count": 1,
      "metadata": {
        "id": "gbsJ9yKtPveH",
        "colab": {
          "base_uri": "https://localhost:8080/",
          "height": 53
        },
        "outputId": "1c5b0521-45b8-4a37-9031-95208be8da83"
      },
      "outputs": [
        {
          "output_type": "stream",
          "name": "stdout",
          "text": [
            "[5, 2, 3, 1]\n"
          ]
        },
        {
          "output_type": "execute_result",
          "data": {
            "text/plain": [
              "'\\n[5, 2, 3, 1]\\n'"
            ],
            "application/vnd.google.colaboratory.intrinsic+json": {
              "type": "string"
            }
          },
          "metadata": {},
          "execution_count": 1
        }
      ],
      "source": [
        "#- 예제 5-1. 스택 예제\n",
        "\n",
        "'''\n",
        "- 문제 정리\n",
        "1. 파이썬 코드로 스택을 표현해보자 \n",
        "2. 빈 리스트를 생성 후 값들을 넣었다가 삭제하면서 어떤 값들이 변화되는지 확인해 본다. \n",
        "\n",
        "- 자연어 알고리즘\n",
        "1. stack이라는 변수명으로 빈 리스트를 생성한다\n",
        "2. stack에 각 숫자들을 하나씩 추가한다(5, 2, 3, 7)\n",
        "3. stack에 들어있는 마지막 숫자를 삭제한다 \n",
        "4. stack에 숫자 1을 추가하고 4를 추가한다 \n",
        "5. stack에 들어있는 마지막 숫자를 삭제한다\n",
        "'''\n",
        "\n",
        "stack =[]\n",
        "\n",
        "# 삽입(5) - 삽입(2) - 삽입(3) - 삽입(7) - 삭제() - 삽입(1) - 삽입(4) - 삭제()\n",
        "stack.append(5)\n",
        "stack.append(2)\n",
        "stack.append(3)  \n",
        "stack.append(7)  # 여기까지 stack 리스트에 [5, 2, 3, 7]이 들어가 있음\n",
        "stack.pop()      # pop()을 했으므로 마지막 원소 7이 삭제됨 [5, 2, 3]\n",
        "stack.append(1)  # 다시 원소 추가 \n",
        "stack.append(4)  # 여기까지는 [5, 2, 3, 1, 4]\n",
        "stack.pop()      # 또 삭제 했으므로 마지막 원소 하나가 삭제 \n",
        "\n",
        "print(stack)     # 그래서 결국 [5, 2, 3, 1]만 출력\n",
        "'''\n",
        "[5, 2, 3, 1]\n",
        "'''"
      ]
    },
    {
      "cell_type": "code",
      "source": [
        "#- 예제 5-2. 큐 예제\n",
        "\n",
        "'''\n",
        "- 문제 정리\n",
        "1. 파이썬 코드로 큐를 표현해보자 \n",
        "2. 큐를 구현하기 위해 deque 라이브러리를 사용한다\n",
        "3. 값들을 넣었다가 삭제하면서 값들이 어떻게 변화되는지 확인해 본다. \n",
        "\n",
        "- 자연어 알고리즘\n",
        "1. 큐 구현을 위해 deque 라이브러리를 불러온다 \n",
        "2. deque()를 queue 변수에 할당한다\n",
        "3. 스택에서 한 것과 동일\n",
        "'''\n",
        "\n",
        "from collections import deque \n",
        "\n",
        "queue = deque()\n",
        "\n",
        "# 삽입(5) - 삽입(2) - 삽입(3) - 삽입(7) - 삭제() - 삽입(1) - 삽입(4) - 삭제()\n",
        "queue.append(5)\n",
        "queue.append(2)\n",
        "queue.append(3)  \n",
        "queue.append(7)  # 여기까지 queue 리스트에 [5, 2, 3, 7]이 들어가 있음\n",
        "queue.popleft()  # popleft()을 해야 맨 처음 원소 5가 삭제됨 [2, 3, 7] / pop()하면 7이 삭제됨 \n",
        "queue.append(1)  # 다시 원소 추가 \n",
        "queue.append(4)  # 여기까지는 [2, 3, 7, 1, 4]\n",
        "queue.popleft()  # 또 삭제 했으므로 마지막 원소 하나가 삭제 \n",
        "\n",
        "print(queue)\n",
        "\n",
        "'''\n",
        "deque([2, 3, 7, 1])\n",
        "'''\n"
      ],
      "metadata": {
        "id": "R3vK0ll4P00x",
        "colab": {
          "base_uri": "https://localhost:8080/",
          "height": 53
        },
        "outputId": "36478b9c-a659-43e7-b51d-5e8e37633cbb"
      },
      "execution_count": 2,
      "outputs": [
        {
          "output_type": "stream",
          "name": "stdout",
          "text": [
            "deque([3, 7, 1, 4])\n"
          ]
        },
        {
          "output_type": "execute_result",
          "data": {
            "text/plain": [
              "'\\ndeque([2, 3, 7, 1])\\n'"
            ],
            "application/vnd.google.colaboratory.intrinsic+json": {
              "type": "string"
            }
          },
          "metadata": {},
          "execution_count": 2
        }
      ]
    },
    {
      "cell_type": "code",
      "source": [
        "stack =[]\n",
        "\n",
        "# 삽입(5) - 삽입(2) - 삽입(3) - 삽입(7) - 삭제() - 삽입(1) - 삽입(4) - 삭제()\n",
        "stack.append(5)\n",
        "stack.append(2)\n",
        "stack.append(3)  \n",
        "stack.append(7)  # 여기까지 stack 리스트에 [5, 2, 3, 7]이 들어가 있음\n",
        "stack.pop()      # pop()을 했으므로 마지막 원소 7이 삭제됨 [5, 2, 3]\n",
        "stack.append(1)  # 다시 원소 추가 \n",
        "stack.append(4)  # 여기까지는 [5, 2, 3, 1, 4]\n",
        "stack.popleft()     \n",
        "\n",
        "print(stack)    \n",
        "\n",
        "'''\n",
        "AttributeError: 'list' object has no attribute 'popleft'  \n",
        "'''"
      ],
      "metadata": {
        "id": "4Be7_4KCQpNb",
        "colab": {
          "base_uri": "https://localhost:8080/",
          "height": 239
        },
        "outputId": "23bd6cd4-f033-40ce-f6eb-5c7f2ff66789"
      },
      "execution_count": 3,
      "outputs": [
        {
          "output_type": "error",
          "ename": "AttributeError",
          "evalue": "ignored",
          "traceback": [
            "\u001b[0;31m---------------------------------------------------------------------------\u001b[0m",
            "\u001b[0;31mAttributeError\u001b[0m                            Traceback (most recent call last)",
            "\u001b[0;32m<ipython-input-3-265b2e7290b2>\u001b[0m in \u001b[0;36m<module>\u001b[0;34m()\u001b[0m\n\u001b[1;32m      9\u001b[0m \u001b[0mstack\u001b[0m\u001b[0;34m.\u001b[0m\u001b[0mappend\u001b[0m\u001b[0;34m(\u001b[0m\u001b[0;36m1\u001b[0m\u001b[0;34m)\u001b[0m  \u001b[0;31m# 다시 원소 추가\u001b[0m\u001b[0;34m\u001b[0m\u001b[0;34m\u001b[0m\u001b[0m\n\u001b[1;32m     10\u001b[0m \u001b[0mstack\u001b[0m\u001b[0;34m.\u001b[0m\u001b[0mappend\u001b[0m\u001b[0;34m(\u001b[0m\u001b[0;36m4\u001b[0m\u001b[0;34m)\u001b[0m  \u001b[0;31m# 여기까지는 [5, 2, 3, 1, 4]\u001b[0m\u001b[0;34m\u001b[0m\u001b[0;34m\u001b[0m\u001b[0m\n\u001b[0;32m---> 11\u001b[0;31m \u001b[0mstack\u001b[0m\u001b[0;34m.\u001b[0m\u001b[0mpopleft\u001b[0m\u001b[0;34m(\u001b[0m\u001b[0;34m)\u001b[0m\u001b[0;34m\u001b[0m\u001b[0;34m\u001b[0m\u001b[0m\n\u001b[0m\u001b[1;32m     12\u001b[0m \u001b[0;34m\u001b[0m\u001b[0m\n\u001b[1;32m     13\u001b[0m \u001b[0mprint\u001b[0m\u001b[0;34m(\u001b[0m\u001b[0mstack\u001b[0m\u001b[0;34m)\u001b[0m\u001b[0;34m\u001b[0m\u001b[0;34m\u001b[0m\u001b[0m\n",
            "\u001b[0;31mAttributeError\u001b[0m: 'list' object has no attribute 'popleft'"
          ]
        }
      ]
    },
    {
      "cell_type": "code",
      "source": [
        "#- 예제 5-3. 재귀함수 예제 (종료 조건 x)\n",
        "'''\n",
        "- 문제 정리\n",
        "1. 파이썬 코드로 재귀 함수를 표현해보자 \n",
        "2. recursive_function 함수를 만들고 자기 자신을 또 호출한다 \n",
        "\n",
        "- 자연어 알고리즘\n",
        "1. recursive_function 함수를 만든다\n",
        "2. ‘재귀함수를 호출합니다’ 문장을 출력한다 \n",
        "3. recursive_function 함수 안에 자기 자신을 또 호출한다\n",
        "'''\n",
        "\n",
        "def recursive_function():\n",
        "    print('재귀함수를 호출합니다.')\n",
        "    recursive_function()     # 함수 안에서 자기 자신을 또 부름 \n",
        "\n",
        "# recursive_function()\n",
        "\n",
        "'''\n",
        "RecursionError: maximum recursion depth exceeded while calling a Python object\n",
        "'''"
      ],
      "metadata": {
        "id": "bn8mocsOQzv4",
        "colab": {
          "base_uri": "https://localhost:8080/",
          "height": 35
        },
        "outputId": "0f614da3-b0d2-427a-80cf-cadcc0a9f9cd"
      },
      "execution_count": 4,
      "outputs": [
        {
          "output_type": "execute_result",
          "data": {
            "text/plain": [
              "'\\nRecursionError: maximum recursion depth exceeded while calling a Python object\\n'"
            ],
            "application/vnd.google.colaboratory.intrinsic+json": {
              "type": "string"
            }
          },
          "metadata": {},
          "execution_count": 4
        }
      ]
    },
    {
      "cell_type": "code",
      "source": [
        "#- 예제 5-4. 재귀함수 예제 (종료 조건 o)\n",
        "\n",
        "def recursive_function(i):\n",
        "    # 100번째 출력 시 종료되도록 종료 조건 명시 \n",
        "  if i == 100:\n",
        "      return\n",
        "  print(i,'번째 재귀함수에서',i+1,'번째 재귀함수를 호출합니다.')\n",
        "  # print(f'{1} 번째 재귀함수에서 {i+1}번째 재귀함수를 호출합니다.')\n",
        "  recursive_function(i + 1)\n",
        "  print(i, '번째 재귀함수를 종료합니다')     \n",
        "\n",
        "# recursive_function(1) "
      ],
      "metadata": {
        "id": "JujSXKaSRb-e"
      },
      "execution_count": 5,
      "outputs": []
    },
    {
      "cell_type": "code",
      "source": [
        "#- 예제 5-5. 팩토리얼 예제\n",
        "\n",
        "# 반복적으로 구현한 n! \n",
        "def factorial_iterative(n):\n",
        "    result = 1\n",
        "    # 1부터 n까지의 수 차례대로 곱하기\n",
        "    for i in range(1, n+1):\n",
        "        result *= i\n",
        "    return result\n",
        "\n",
        "# 재귀적으로 구현한 n!\n",
        "def factorial_recursive(n):\n",
        "    if n <= 1:      # n이 1 이하인 경우 \n",
        "        return 1    # 1을 반환\n",
        "    \n",
        "    # n! = n * (n-1)!을 그대로 코드로 작성\n",
        "    return n * factorial_recursive(n-1)\n",
        "\n",
        "print('반복적으로 구현:', factorial_iterative(5))\n",
        "print('재귀적으로 구현:', factorial_recursive(5))\n",
        "\n",
        "'''\n",
        "반복적으로 구현: 120\n",
        "재귀적으로 구현: 120\n",
        "'''"
      ],
      "metadata": {
        "id": "55hWHXuLRm-V",
        "colab": {
          "base_uri": "https://localhost:8080/",
          "height": 71
        },
        "outputId": "74aa0297-b30f-443e-c499-340bc90da255"
      },
      "execution_count": 6,
      "outputs": [
        {
          "output_type": "stream",
          "name": "stdout",
          "text": [
            "반복적으로 구현: 120\n",
            "재귀적으로 구현: 120\n"
          ]
        },
        {
          "output_type": "execute_result",
          "data": {
            "text/plain": [
              "'\\n반복적으로 구현: 120\\n재귀적으로 구현: 120\\n'"
            ],
            "application/vnd.google.colaboratory.intrinsic+json": {
              "type": "string"
            }
          },
          "metadata": {},
          "execution_count": 6
        }
      ]
    },
    {
      "cell_type": "markdown",
      "source": [
        "#### 탐색 알고리즘 DFS/BFS\n",
        "\n",
        "- 한 문장으로 말하자면\n",
        "    - **DFS(Depth-First Search) : 깊이 우선 탐색**, 그래프에서 깊은 부분을 우선적으로 탐색하는 알고리즘\n",
        "        - 스택 자료구조를 이용, 재귀 함수를 이용해서 구현\n",
        "    - **BFS(Breadth-First Search): 너비 우선 탐색**, 가까운 노드부터 탐색하는 알고리즘\n",
        "        - 큐 자료구조를 이용\n",
        "\n",
        "\n",
        "- 인접리스트와 인접행렬의 차이 \n",
        "\n",
        "  1) 인접행렬 방식\n",
        "\n",
        "  - 모든 관계를 저장하므로 노드개수가 많을수록 메모리가 불필요하게 낭비됨\n",
        "  - 정보 얻는 속도는 빠름.\n",
        "\n",
        "  2) 인접리스트 \n",
        "\n",
        "  - 연결된 정보만을 저장하기 때문에 메모리를 효율적으로 사용함\n",
        "  - 각 노드를 비교할 때, 노드에 대한 인접리스트를 앞에서부터 차례대로 확인해야함.\n",
        "  - 특정한 두 노드가 연결되어 있는지에 대한 정보를 얻는 속도가 느림\n"
      ],
      "metadata": {
        "id": "Tuz23ZazRwI_"
      }
    },
    {
      "cell_type": "code",
      "source": [
        "#- 예제 5-6. 인접 행렬 방식 예제 \n",
        "\n",
        "'''\n",
        "- 문제 정리\n",
        "1. **인접 행렬 :** 2차원 배열로 그래프의 연결 관계를 표현하는 방식\n",
        "- 연결이 되어 있지 않은 노드끼리는 무한의 비용이라고 작성함.\n",
        "'''\n",
        "\n",
        "INF = 999999999 #무한의 비용 선언\n",
        "\n",
        "# 2차원 리스트를 이용해 인접 행렬 표현\n",
        "\n",
        "GRAPH =[[0,7,5],[7,0,INF],[7,0,INF],[5,INF,0]]\n",
        "\n",
        "print(GRAPH)\n",
        "\n",
        "'''\n",
        "[[0,7,5],[7,0, INF],[7,0,INF],[5,INF,0]]\n",
        "\n",
        "'''\n"
      ],
      "metadata": {
        "id": "2LrogTsvR8wK",
        "colab": {
          "base_uri": "https://localhost:8080/",
          "height": 53
        },
        "outputId": "99a8e2cd-2227-4747-aa6f-1236bce8af01"
      },
      "execution_count": 7,
      "outputs": [
        {
          "output_type": "stream",
          "name": "stdout",
          "text": [
            "[[0, 7, 5], [7, 0, 999999999], [7, 0, 999999999], [5, 999999999, 0]]\n"
          ]
        },
        {
          "output_type": "execute_result",
          "data": {
            "text/plain": [
              "'\\n[[0,7,5],[7,0, INF],[7,0,INF],[5,INF,0]]\\n\\n'"
            ],
            "application/vnd.google.colaboratory.intrinsic+json": {
              "type": "string"
            }
          },
          "metadata": {},
          "execution_count": 7
        }
      ]
    },
    {
      "cell_type": "code",
      "source": [
        "#- 예제 5-7. 인접 리스트 방식 예제 \n",
        "\n",
        "'''\n",
        "1. 인접 리스트 방식 : 리스트로 그래프의 연결 관계를 표현하는 방식\n",
        "- 모든 노드에 연결된 노드에 대한 정보를 차례대로 연결하여 저장함.\n",
        "- 파이썬은 인접행렬을 리스트로 구현함.\n",
        "- 파이썬으로 인접 리스트를 이용해 그래프를 표현하고자 할 때에도 단순히 2차원 리스트를 이용하면 됨.\n",
        "'''\n",
        "\n",
        "# 행(Row)이 3개인 2차원 리스트로 인접 리스트 표현\n",
        "graph = [ [] for _ in range(3)] \n",
        "\n",
        "# 노드 0에 연결된 노드 정보 저장(노드, 거리)\n",
        "graph[0].append((1,7))\n",
        "graph[0].append((2,5))\n",
        "\n",
        "# 노드 1에 연결된 정보 저장(노드,거리)\n",
        "graph[1].append((0,7))\n",
        "\n",
        "# 노드 2에 연결된 노드 정보저장(노드,거리)\n",
        "graph[2].append((0,5))\n",
        "\n",
        "print(graph)\n",
        "\n",
        "'''\n",
        "출력 [[(1,7),(2,5)],[(0,7)],[(0,5)]]\n",
        "'''"
      ],
      "metadata": {
        "id": "WkvaHVrlYMVj",
        "colab": {
          "base_uri": "https://localhost:8080/",
          "height": 53
        },
        "outputId": "92827d86-b968-406d-9f25-bca8563de197"
      },
      "execution_count": 8,
      "outputs": [
        {
          "output_type": "stream",
          "name": "stdout",
          "text": [
            "[[(1, 7), (2, 5)], [(0, 7)], [(0, 5)]]\n"
          ]
        },
        {
          "output_type": "execute_result",
          "data": {
            "text/plain": [
              "'\\n출력 [[(1,7),(2,5)],[(0,7)],[(0,5)]]\\n'"
            ],
            "application/vnd.google.colaboratory.intrinsic+json": {
              "type": "string"
            }
          },
          "metadata": {},
          "execution_count": 8
        }
      ]
    },
    {
      "cell_type": "markdown",
      "source": [
        "### DFS 동작과정\n",
        "\n",
        "1. 탐색 시작 노드를 스택에 삽입하고 방문처리를 한다.\n",
        "- 방문 처리 : 스택에 한 번 삽입되어 처리된 노드가 다시 삽입되지 않게 체크하는 것\n",
        "1. 스택의 최상단 노드에 방문하지 않은 인접 노드가 있으면 그 인접 노드를 스택에 넣고 방문 처리를 한다. 방문하지 않은 인접노드가 없으면 스택에서 최상단 노드를 꺼낸다.\n",
        "2. 2번의 과정을 더 이상 수행할 수 없을 때까지 반복한다.\n",
        "\n",
        "### BFS 동작과정\n",
        "\n",
        "1. 탐색 시작 노드를 **큐에 삽입**하고 방문 처리를 한다.\n",
        "2. 큐에서 노드를 꺼내 해당 노드의 인접 노드 중에서 방문하지 않은 노드를 모두 큐에 삽입하고 방문처리를 한다.\n",
        "3. 2번의 과정을 더 이상 수행할 수 없을 때가지 반복한다."
      ],
      "metadata": {
        "id": "w1rveBvUot9V"
      }
    },
    {
      "cell_type": "code",
      "source": [
        "#- 예제 5-8. DFS 예제\n",
        "\n",
        "#DFS 메서드 정의\n",
        "#- Depth First Search\n",
        "#- 최대한 멀리 있는 노드부터 탐색\n",
        "#- 동작원리 => Stack. 재귀함수 이용\n",
        "\n",
        "def dfs(graph, v, visited):\n",
        "  '''\n",
        "  Args:\n",
        "    graph: 이중 리스트. i 번째 요소는 노드 i와 연결된 인접노드 리스트이다.\n",
        "    v: 현재 노드\n",
        "    visited: 노드의 방문(탐색)여부를 기록\n",
        "  Returns: None\n",
        "  '''\n",
        "# 현재 노드를 방문 처리\n",
        "  visited[v] = True\n",
        "  print(v, end=' ')\n",
        "\n",
        "  # 현재 노드와 연결된 다른 노드를 재귀적으로 방문\n",
        "  for i in graph[v]:\n",
        "    if not visited[i]:\n",
        "      dfs(graph, i, visited)\n",
        "\n",
        "# 각 노드가 연결된 정보를 리스트 자료형으로 표현(2차원 리스트)\n",
        "graph = [\n",
        "\t[], [2,3,8],[1,7],[1,4,5],[3,5],[3,4],[7],[2,6,8],[1,7] ]\n",
        "\n",
        "# 각 노드가 방문된 정보를 리스트 자료형으로 표현(1차원 리스트)\n",
        "visited = [False] * 9\n",
        "\n",
        "#정의된 dfs 함수 호출\n",
        "dfs(graph, 1, visited)\n",
        "\n",
        "'''\n",
        "출력 : 1 2 7 6 8 3 4 5\n",
        "'''"
      ],
      "metadata": {
        "colab": {
          "base_uri": "https://localhost:8080/",
          "height": 35
        },
        "id": "ioDLQb9lafNz",
        "outputId": "2dfa8ae4-06ed-4764-e04a-264d2b62a513"
      },
      "execution_count": 9,
      "outputs": [
        {
          "output_type": "stream",
          "name": "stdout",
          "text": [
            "1 2 7 6 8 3 4 5 "
          ]
        },
        {
          "output_type": "execute_result",
          "data": {
            "text/plain": [
              "'\\n출력 : 1 2 7 6 8 3 4 5\\n'"
            ],
            "application/vnd.google.colaboratory.intrinsic+json": {
              "type": "string"
            }
          },
          "metadata": {},
          "execution_count": 9
        }
      ]
    },
    {
      "cell_type": "code",
      "source": [
        "from collections import deque\n",
        "\n",
        "# BFS 메서드 정의\n",
        "#- breadth First Search\n",
        "#- 가까운 노드부터 탐색\n",
        "#- 동작원리 => Queue\n",
        "\n",
        "def bfs(graph, start, visited):# 큐(Queue)구현을 위해 deque라이브러리 사용\n",
        "\tqueue = deque([start])\n",
        "\t# 현재 노드를 방문 처리\n",
        "\tvisited[start] = True\n",
        "  #큐가 빌 때까지 반복\n",
        "\twhile queue:\n",
        "\t\t#큐에서 하나의 원소를 뽑아 출력\n",
        "\t\tv = queue.popleft()\n",
        "\t\tprint(v, end= ' ')\n",
        "\t\t#해당 원소와 연결된, 아직 방문하지 않은 원소들을 큐에 삽입\n",
        "\t\tfor i in graph[v]:\n",
        "\t\t\tif not visited[i]:\n",
        "\t\t\t\t\tqueue.append(i) \n",
        "\t\t\t\t\tvisited[i]= True\n",
        "\n",
        "#- BFS를 DFS와 비교해보자 \n",
        "'''\n",
        "def dfs(graph, v, visited):\n",
        "\n",
        "\t# 현재 노드를 방문 처리\n",
        "\tvisited[v] = True\n",
        "\tprint(v, end=' ')\n",
        "\n",
        "# 현재 노드와 연결된 다른 노드를 재귀적으로 방문\n",
        "\tfor i in graph[v]:\n",
        "\t\tif not visited[i]:\n",
        "\t\t\tdfs(graph, i, visited)\n",
        "'''\n",
        "\n",
        "# 각 노드가 연결된 정보를 리스트 자료형으로 표현(2차원 리스트)\n",
        "graph = [\n",
        "\t[], [2,3,8],[1,7],[1,4,5],[3,5],[3,4],[7],[2,6,8],[1,7] ]\n",
        "\n",
        "# 각 노드가 방문된 정보를 리스트 자료형으로 표현(1차원 리스트)\n",
        "visited = [False] * 9\n",
        "\n",
        "# 정의된 BFS 함수 호\n",
        "bfs(graph, 1, visited)\n",
        "\n"
      ],
      "metadata": {
        "colab": {
          "base_uri": "https://localhost:8080/"
        },
        "id": "fnkiB4hNocP3",
        "outputId": "ae459611-c5b9-427f-ee90-793dbd3f21f1"
      },
      "execution_count": 10,
      "outputs": [
        {
          "output_type": "stream",
          "name": "stdout",
          "text": [
            "1 2 3 8 7 4 5 6 "
          ]
        }
      ]
    },
    {
      "cell_type": "code",
      "source": [
        "#- 실전3. 음료수 얼려먹기\n",
        "\n",
        "'''\n",
        "- 문제 정리\n",
        "1. N x M 크기의 얼음 틀이 있다. (얼음틀의 세로길이 N과 가로길이 M을 공백 기준으로 입력받는다)\n",
        "2. 구멍이 뚫린 부분은 0, 칸막이가 존재하는 부분은 1로 표시된다. (얼음틀의 형태를 0과1으로 입력한다)\n",
        "3. 구멍이 뚫려있는 부분끼리 상,하,좌,우로 붙어 있는 경우 서로 연결되어 있는 것\n",
        "4. 주어진 얼음틀에서 생성되는 총 아이스크림의 개수를 구하는 프로그램\n",
        "5. 아래의 예시는 4x5 얼음틀에서 아이스크림은 총 3개가 생성된다. pg.149\n",
        "\n",
        "- 어떻게 접근하지?\n",
        "  - DFS vs BFS ? 왜 ? \n",
        "  - 특정한 지점의 주변 상하좌우를 살펴본 뒤에 주변 지점 중에서 값이 0이면서 아직 방문하지 않은 지점이 있다면 해당 지점을 방문한다\n",
        "  - 방문한 지점에서 다시 상하좌우를 살펴보면서 방문을 다시 진행하면 연결된 모든 지점을 방문할 수 있다\n",
        "  - 위의 과정을 모든 노드에 반복하며 방문하지 않은 지점의 수를 센다\n",
        "\n",
        "- 자연어 알고리즘 \n",
        "1. 행과 열의 크기를 공백 기준으로 입력 받아서 변수 n, m에 각각 할당   \n",
        "2. 인접 리스트로 그래프를 표현하기 위해서 빈리스트를 변수 graph로 생성\n",
        "3. for 반복문 - range(n) 만큼 반복하여 i에 할당\n",
        "  - input()으로 0과 1로 구성된 m크기의 숫자를 입력 받는다. (문자열 type)\n",
        "  - 문자열 타입을 정수타입으로 변환\n",
        "  - 리스트에 넣어준 뒤, graph에다가 삽입한다. \n",
        "  - 이를 n만큼 반복\n",
        "4. 함수 dfs를 정의 - 인자로 (행,열)을 입력 받는다. 변수 x,y\n",
        "  - if조건문 - nxm 행렬에서 벗어나는 위치(x,y)\n",
        "    - 함수를 종료.\n",
        "  - if조건문 - graph에서 x행 y열의 요소가 0인 경우\n",
        "    - 그 요소를 1로 변경 \n",
        "    - 재귀문 dfs() \n",
        "      dfs(x-1, y) # 상\n",
        "      dfs(x, y-1) # 좌\n",
        "      dfs(x+1, y) # 하\n",
        "      dfs(x, y+1) # 우\n",
        "      상하좌우에 0이 더이상 없는 경우 return True << 재귀문을 빠져나옴\n",
        "  - 만약 요소가 1인 경우에는 reuturn False\n",
        "\n",
        "5. 결과값을 저장할 변수 result를 생성하고 0 할당.\n",
        "6. 이중 for문 - n x m 만큼 반복하고 각각 i, j에 값을 할당.\n",
        "  - if조건문 - 만약 dfs(i,j)가 True인 경우\n",
        "    - result에 1을 더하여 할당한다. \n",
        "7. result를 출력한다. \n",
        "\n",
        "'''\n",
        "# N, M을 공백으로 구분하여 입력받기 \n",
        "n, m = map(int, input().split())\n",
        "\n",
        "# 2차원 리스트의 맵 정보 입력받기 \n",
        "graph = []\n",
        "for i in range(n): \n",
        "    graph.append(list(map(int, input()))) #- input에 입력하는 숫자 개수는? \n",
        "\n",
        "# DFS로 특정한 노드를 방문한 뒤에 연결된 모든 노드들도 방문\n",
        "def dfs(x,y) : #- (행,열)\n",
        "    # 주어진 범위를 벗어나는 경우에는 즉시 종료\n",
        "    if x <= -1 or x >= n or y <= -1 or y >= m:\n",
        "        return False\n",
        "    \n",
        "    # 현재 노드를 아직 방문하지 않았다면 \n",
        "    if graph[x][y] == 0 :\n",
        "        # 해당 노드를 1로 방문 처리 \n",
        "        graph[x][y] = 1\n",
        "        # 상하좌우의 위치도 모두 재귀적으로 호출\n",
        "        # 앞에 했던 여행가 좌표 변화량과 같은 원리\n",
        "        dfs(x-1, y) # 상\n",
        "        dfs(x, y-1) # 좌\n",
        "        dfs(x+1, y) # 하\n",
        "        dfs(x, y+1) # 우\n",
        "        return True\n",
        "    return False #- 현재 노드를 이미 방문했다면 종료\n",
        "\n",
        "# 모든 노드(위치)에 대하여 음료수 채우기 \n",
        "result = 0\n",
        "for i in range(n):\n",
        "    for j in range(m):\n",
        "        # 현재 위치에서 DFS 수행\n",
        "        if dfs(i,j) == True: \n",
        "            result += 1\n",
        "\n",
        "print(result)\n",
        "\n",
        "'''\n",
        "4 5\n",
        "00110\n",
        "00011\n",
        "11111\n",
        "00000\n",
        "3\n",
        "'''"
      ],
      "metadata": {
        "colab": {
          "base_uri": "https://localhost:8080/",
          "height": 142
        },
        "id": "tslMWeiGoxu1",
        "outputId": "a23f1f9d-e173-4661-f14f-3370db634dc0"
      },
      "execution_count": 11,
      "outputs": [
        {
          "output_type": "stream",
          "name": "stdout",
          "text": [
            "4 5\n",
            "00110\n",
            "00011\n",
            "11111\n",
            "00000\n",
            "3\n"
          ]
        },
        {
          "output_type": "execute_result",
          "data": {
            "text/plain": [
              "'\\n4 5\\n00110\\n00011\\n11111\\n00000\\n3\\n'"
            ],
            "application/vnd.google.colaboratory.intrinsic+json": {
              "type": "string"
            }
          },
          "metadata": {},
          "execution_count": 11
        }
      ]
    },
    {
      "cell_type": "code",
      "source": [
        "#- 실전4.미로탈출\n",
        "\n",
        "'''\n",
        "- 문제정리\n",
        "1. NxM 크기의 직사각형 형태의 미로가 있다. (N<=4, M<=200)\n",
        "2. 사용자의 위치는 (1,1)이고 미로의 출구는 (N,M) 위치에 존재하며, 한번에 한 칸씩 이동할 수 있다. \n",
        "3. 미로에는 괴물이 있는데, 괴물이 있는 부분은 0으로, 괴물이 없는 부분은 1로 표시되어 있다. (시작칸과 마지막 칸은 항상 1이다.)\n",
        "4. 동빈이가 탈출하기 위해 움직여야 하는 최소 칸의 개수는 ? \n",
        "5. 칸을 셀 때는 시작과 마지막 칸을 모두 포함해서 계산한다. \n",
        "\n",
        "- 자연어 알고리즘\n",
        "1. \n",
        "2. \n",
        "\n",
        "BFS는 시작 지점에서 가까운 노드부터 차례대로 그래프의 모든 노드를 탐색하기 때문에, BFS로 풀어보자. (선입선출)\n",
        "deque는 double-ended queue 의 줄임말 \n",
        "'''\n",
        "from collections import deque\n",
        "\n",
        "# N, M을 공백을 기준으로 구분하여 입력 받기\n",
        "n, m = map(int, input().split())\n",
        "# 2차원 리스트의 맵 정보 입력 받기\n",
        "graph = []\n",
        "for i in range(n):\n",
        "    graph.append(list(map(int, input())))\n",
        "\n",
        "# 이동할 네 가지 방향 정의 (상, 하, 좌, 우)\n",
        "dx = [-1, 1, 0, 0]\n",
        "dy = [0, 0, -1, 1]\n",
        "\n",
        "# BFS 소스코드 구현\n",
        "def bfs(x, y):\n",
        "    # 큐(Queue) 구현을 위해 deque 라이브러리 사용\n",
        "    queue = deque()\n",
        "    queue.append((x, y))\n",
        "    # 큐가 빌 때까지 반복하기\n",
        "    while queue:\n",
        "        x, y = queue.popleft()\n",
        "        # 현재 위치에서 4가지 방향으로의 위치 확인\n",
        "        for i in range(4):\n",
        "            nx = x + dx[i]\n",
        "            ny = y + dy[i]\n",
        "            # 미로 찾기 공간을 벗어난 경우 무시\n",
        "            if nx < 0 or nx >= n or ny < 0 or ny >= m:\n",
        "                continue\n",
        "            # 벽인 경우 무시\n",
        "            if graph[nx][ny] == 0:\n",
        "                continue\n",
        "            # 해당 노드를 처음 방문하는 경우에만 최단 거리 기록\n",
        "            if graph[nx][ny] == 1:\n",
        "                graph[nx][ny] = graph[x][y] + 1\n",
        "                queue.append((nx, ny))\n",
        "    # 가장 오른쪽 아래까지의 최단 거리 반환\n",
        "    return graph[n - 1][m - 1]\n",
        "\n",
        "# BFS를 수행한 결과 출력\n",
        "print(bfs(0, 0))\n",
        "\n",
        "'''\n",
        "5 6\n",
        "101010\n",
        "111111\n",
        "000001\n",
        "111111\n",
        "111111\n",
        "'''"
      ],
      "metadata": {
        "id": "oftiaVWir2Mj",
        "colab": {
          "base_uri": "https://localhost:8080/"
        },
        "outputId": "d1470771-73fc-4584-dc33-3e2c61689718"
      },
      "execution_count": 12,
      "outputs": [
        {
          "output_type": "stream",
          "name": "stdout",
          "text": [
            "5 6\n",
            "101010\n",
            "111111\n",
            "000001\n",
            "111111\n",
            "111111\n",
            "10\n"
          ]
        }
      ]
    }
  ]
}